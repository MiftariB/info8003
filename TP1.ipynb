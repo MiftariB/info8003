{
 "cells": [
  {
   "cell_type": "markdown",
   "id": "87ae4bfb",
   "metadata": {},
   "source": [
    "# First Notebook INFO8003\n",
    "The idea behind this notebook is to make you implement the different things that have been seen during the tutorial session. This notebook is to be submitted on the following week. It will also be corrected the following week.\n"
   ]
  },
  {
   "cell_type": "markdown",
   "id": "d74ac705",
   "metadata": {},
   "source": [
    "## The discrete domain\n",
    "You are asked to implement the discrete domain explained in TP1. Particularly, your class domain should have the following functions: \n",
    "- reward(state, action): returns the reward associate to the current state if action is taken\n",
    "- step(action): updates the current state by taking action and returns the tuple <current_state, action, new_state, reward>\n"
   ]
  },
  {
   "cell_type": "code",
   "execution_count": 1,
   "id": "72ba1a91",
   "metadata": {},
   "outputs": [],
   "source": [
    "class domain: \n",
    "    def __init__(self):\n",
    "        self.current_state = 0\n",
    "        self.gamma = 0.95\n",
    "        \n",
    "    def get_current_state(self):\n",
    "        return self.current_state\n",
    "        \n",
    "    def reward(self, state, action):\n",
    "        // to fill \n",
    "        \n",
    "    def step(self, action):\n",
    "        // to fill\n",
    "            \n",
    "    def function_j(self, state, agent, N):\n",
    "        // to fill\n",
    "    \n",
    "    @staticmethod\n",
    "    def dynamic(state, action):\n",
    "        // to fill\n",
    "    "
   ]
  },
  {
   "cell_type": "markdown",
   "id": "e46c2a19",
   "metadata": {},
   "source": [
    "## Implement an agent \n",
    "You are asked to code an agent that choses the always-dig policy via the function: \n",
    "- chose_action(state): that takes a state as input and returns an always-dig action"
   ]
  },
  {
   "cell_type": "code",
   "execution_count": 2,
   "id": "bd38d696",
   "metadata": {},
   "outputs": [],
   "source": [
    "class agent:\n",
    "    def __init__(self):\n",
    "        //to fill\n",
    "        \n",
    "    def chose_action(self,state):\n",
    "        // to fill\n",
    "    "
   ]
  },
  {
   "cell_type": "markdown",
   "id": "c66941db",
   "metadata": {},
   "source": [
    "## Interaction between agent and domain over 10 timesteps"
   ]
  },
  {
   "cell_type": "code",
   "execution_count": 3,
   "id": "8f299407",
   "metadata": {},
   "outputs": [
    {
     "name": "stdout",
     "output_type": "stream",
     "text": [
      "(0, 1, 1, -1)\n",
      "(1, 1, 2, -1)\n",
      "(2, 1, 3, 1)\n",
      "(3, 1, 4, -1)\n",
      "(4, 1, 5, -2)\n",
      "(5, 1, 6, -3)\n",
      "(6, 1, 7, -4)\n",
      "(7, 1, 8, 10)\n",
      "(8, 1, 8, 10)\n",
      "(8, 1, 8, 10)\n"
     ]
    }
   ],
   "source": [
    "d = domain()\n",
    "a = agent()\n",
    "for i in range(10):\n",
    "    current_action = a.chose_action(d.get_current_state())\n",
    "    print(d.step(current_action))"
   ]
  },
  {
   "cell_type": "markdown",
   "id": "d0607d75",
   "metadata": {},
   "source": [
    "## Implement a function J \n",
    "Implement the state value function that evalues the estimated reward if a policy is applied to a state. The specification of the function: \n",
    "\n",
    "- function_j must be added to the class domain.\n",
    "- It takes as argument : \n",
    "    - the class itself\n",
    "    - state considered\n",
    "    - agent \n",
    "    - Number of iteration"
   ]
  },
  {
   "cell_type": "code",
   "execution_count": 4,
   "id": "d78a4a00",
   "metadata": {},
   "outputs": [
    {
     "name": "stdout",
     "output_type": "stream",
     "text": [
      "-1.8122249140625002\n"
     ]
    }
   ],
   "source": [
    "print(d.function_j(0, a, 8))"
   ]
  },
  {
   "cell_type": "code",
   "execution_count": null,
   "id": "94ab3e5f",
   "metadata": {},
   "outputs": [],
   "source": []
  }
 ],
 "metadata": {
  "kernelspec": {
   "display_name": "Python 3 (ipykernel)",
   "language": "python",
   "name": "python3"
  },
  "language_info": {
   "codemirror_mode": {
    "name": "ipython",
    "version": 3
   },
   "file_extension": ".py",
   "mimetype": "text/x-python",
   "name": "python",
   "nbconvert_exporter": "python",
   "pygments_lexer": "ipython3",
   "version": "3.10.8"
  }
 },
 "nbformat": 4,
 "nbformat_minor": 5
}
